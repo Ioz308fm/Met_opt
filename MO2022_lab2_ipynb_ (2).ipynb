{
 "cells": [
  {
   "cell_type": "markdown",
   "metadata": {
    "id": "JJIYYz8BoS07"
   },
   "source": [
    "# <center>Лабораторная работа 2.</center>\n",
    "## <center>Многомерная безусловная оптимизация</center>\n",
    "\n",
    "*Автор материала: к.т.н., доцент кафедры Фундаметальной информатики и оптимального управления ВолГУ Михаил Алексеевич Харитонов*\n",
    "\n",
    "**Цель работы:** Приобретение практических навыков реализации методов поиска безусловного экстремума в языке Python с использованием Jupyter Notebook.\n",
    "\n",
    "**Задание:** Заполните ответ в клетках (где написано \"Ваш код здесь\" или \"Ваш ответ здесь\"), ответьте на вопросы.\n",
    "\n"
   ]
  },
  {
   "cell_type": "markdown",
   "metadata": {
    "id": "veDsKNHFKUMv"
   },
   "source": [
    "\n",
    "\n",
    "\n"
   ]
  },
  {
   "cell_type": "markdown",
   "metadata": {
    "id": "fDfDRGZ7_zd-"
   },
   "source": [
    "# Часть 1 Python"
   ]
  },
  {
   "cell_type": "markdown",
   "metadata": {
    "id": "HfTEy70sdntd"
   },
   "source": [
    "**Пример** Из всех параллелепипедов с данной суммой $S$ длин сторон трех взаимно перпендикулярных ребер найти тот, объем которого наибольший.\n",
    "\n",
    "**Решение.**\n",
    "Пусть $a$, $b$, $c$ -  длины взаимно перпендикулярных ребер, тогда $S=a+b+c$ и $V=a\\cdot b \\cdot c$.\n",
    "\n",
    "По теореме о средних имеем:\n",
    "$$a+b+c\\geq 3 \\sqrt[3]{a\\cdot b \\cdot c}.$$\n",
    "\n",
    "Отсюда $$a\\cdot b \\cdot c \\leq \\frac{(a+b+c)^3}{27}, V=abc\\leq \\frac{S^3}{27}.$$\n",
    "\n",
    "Следовательно $V$ достигает наибольшего значения, когда $a=b=c=\\frac{S}{3}.$\n",
    "\n",
    "\n"
   ]
  },
  {
   "cell_type": "markdown",
   "metadata": {
    "id": "En5AiGj8Ja2k"
   },
   "source": [
    "## 1.1 Метод нулевого порядка (метод Хука-Дживса)"
   ]
  },
  {
   "cell_type": "markdown",
   "metadata": {
    "id": "d2vXCeiu50BF"
   },
   "source": [
    "\n",
    "**Шаг 1.** Задать начальную точку $x^0$,число $\\varepsilon >0$ для остановки алгоритма, начальные величины шагов по координатным направлениям $\\Delta_1,\\ldots, \\Delta_n>\\varepsilon$, ускоряющий множитель       $\\lambda>0$, коэффициент уменьшения шага $\\alpha > 1$. Положить $y^1=x^0$, $i=1$, $k=0$.\n",
    "\n",
    "**Шаг 2.** Осуществить исследующий поиск по выбранному координатному направлению:\n",
    "\n",
    "  a) если  $f(y^i+\\Delta_i d_i)<f(y^i)$, шаг считается удачным. В этом случае следует положить $y^{i+1}=y^i+\\Delta_i d_i$ и перейти к шагу 3.\n",
    "\n",
    "  b) если в п. a шаг неудачен, то делается шаг в противоположном направлении. Если $f(y^i-\\Delta_i d_i)<f(y^i)$, шаг считается удачным. В этом случае следует положить  $y^{i+1}=y^i-\\Delta_i d_i$ и перейти  к шагу 3.\n",
    "\n",
    "  c) если в пп. a и b шаги неудачны, положить $y^{i+1}=y^i$.\n",
    "\n",
    "**Шаг 3.** Проверить условия:\n",
    "\n",
    "  a) если $i<n$, то положить $i=i+1$ и перейти к шагу 2 (продолжить исследующий поиск по оставшимся направлениям);\n",
    "  b) если $i=n$, проверить успешность исследующего поиска:\n",
    "\n",
    "   - если $f(y^{n+1})<f(x^k)$, перейти к шагу 4.\n",
    "\n",
    "   - если $f(y^{n+1})\\geq f(x^k)$, перейти к шагу 5.\n",
    "\n",
    "**Шаг 4.** Провести поиск по образцу. Положить $x^{k+1}=y^{n+1}$, $y^1=x^{k+1}+\\lambda(x^{k+1}-x^{k}),i=1,k=k+1$ и перейти к шагу 2.\n",
    "\n",
    "**Шаг 5.** Проверить условие окончания:\n",
    "\n",
    "  a) если все $\\Delta_i\\leq\\varepsilon_i$, то поиск закончить: $x^* \\cong x^k$.\n",
    "\n",
    "  b) для тех $i$, для которых $\\Delta_i>\\varepsilon_i$, уменьшить величину шага: $\\Delta_i=\\frac{\\Delta_i}{\\alpha}$ .\n",
    "            Подожить $y^1=x^k$, $x^{k+1}=x^k$, $k=k+1, i=1$ и перейти к шагу 2.\n"
   ]
  },
  {
   "cell_type": "markdown",
   "metadata": {
    "id": "bTio8eoeLVBH"
   },
   "source": [
    "### Задание 1.1"
   ]
  },
  {
   "cell_type": "markdown",
   "metadata": {
    "id": "wVeM5Lk9La4-"
   },
   "source": [
    "1) Напишите функцию реализующую алгоритм поиска минимима функции методом метод Хужа-Дживса.  \n",
    "2) С помощью функции найдите минимальное значение функции $$f_1(x)=x_1^3-x_1x_2+x^2_2-2x_1+3x_2-4.$$\n",
    "3) С помощью функции найдите минимальное значение функции Розенброка $$f_2(x)=(1-x_1)^{2}+100(x_2-x_1^{2})^{2}.$$\n",
    "\n",
    "4) С помощью функции найдите максимум функции $$f_3(x)=\\frac{10}{30(x_2-x_1^2)^2+5(1.5+x_1)^2+1}.$$\n",
    "\n",
    "5)  С помощью функции найдите минимальное значение функции  $$f_4(x)=x_1^2+5x_2^2+3x_3^2+4x_1x_2-2x_2x_3-2x_1x_3.$$"
   ]
  },
  {
   "cell_type": "code",
   "execution_count": 7,
   "metadata": {
    "id": "XwauhReQe3RM"
   },
   "outputs": [],
   "source": [
    "# Ваш код здесь\n",
    "#берем какие-то направления dy\n",
    "#шагаем от начальной точки, если мы спустились с горы то круто\n",
    "#если нет то шагаем из начала в обратную сторону стоько же\n",
    "#если круто то повторяем\n",
    "#если не круто то уменьшаем длину шага и повторяем все\n",
    "import numpy as np\n",
    "def config(dy,x0,eps,alp,lam,n):#alp это альфа, lam это лямбда\n",
    "    y=np.copy(x0)\n",
    "    xk=np.copy(x0)\n",
    "    end=0\n",
    "    k=0\n",
    "    while(end<1):\n",
    "        for i in range(n):#шаг2 и 3, делаем пока i<=n\n",
    "            t=np.copy(y)#это будет массив yi+di\n",
    "            t[i]+=dy[i]\n",
    "            if (f(t)<f(y)):\n",
    "                y=np.copy(t)\n",
    "            else:\n",
    "                t[i]-=2*dy[i]#если не подошло направление, разварачиваемся на вдвое большее расстояние, чем уже было , т.е. x+h->x-h\n",
    "                if(f(t)<f(y)):\n",
    "                    y=np.copy(t)\n",
    "        if(f(y)<f(xk)):#переходим к шагу4\n",
    "            xk1=np.copy(y)\n",
    "            for i in range(n):\n",
    "                y[i]=xk1[i]+lam*(xk1[i]-xk[i])\n",
    "            xk=np.copy(xk1)#начинаем заново\n",
    "        else:#переходим к шагу 5\n",
    "            for i in range(n):\n",
    "                if(dy[i]>eps[i]):#сравнение дельта i и eps i\n",
    "                    end=0\n",
    "                    break\n",
    "                else:\n",
    "                    end=1#если все дельта i <= eps i , то заканчиваем\n",
    "            \n",
    "            if(end>0):\n",
    "                return xk\n",
    "            else:#если не все, то которые больше делим на альфа и кладем y=xk\n",
    "                for i in range(n):\n",
    "                    if(dy[i]>eps[i]):\n",
    "                        dy[i]/=alp\n",
    "                y=np.copy(xk)\n",
    "        "
   ]
  },
  {
   "cell_type": "code",
   "execution_count": 8,
   "metadata": {},
   "outputs": [
    {
     "name": "stdout",
     "output_type": "stream",
     "text": [
      "[ 0.49977431 -1.25034722] -6.437499881407378\n"
     ]
    }
   ],
   "source": [
    "#№2\n",
    "def f(x):\n",
    "    return x[0]**3-x[0]*x[1]+x[1]**2-2*x[0]+3*x[1]-4\n",
    "dy=[0.1,0.1]\n",
    "x0=[1.,-1.]\n",
    "eps=[10**(-3),10**(-3)]# критерий остановки, если длина шага dy<eps заканчиваем\n",
    "alp=2.\n",
    "lam=10**(-1)\n",
    "n=2\n",
    "rez=config(dy,x0,eps,alp,lam,n)\n",
    "print(rez,f(rez))"
   ]
  },
  {
   "cell_type": "code",
   "execution_count": 9,
   "metadata": {},
   "outputs": [
    {
     "name": "stdout",
     "output_type": "stream",
     "text": [
      "[0.84279167 0.71001389] 0.024722520246745584\n"
     ]
    }
   ],
   "source": [
    "#№3\n",
    "def f(x):\n",
    "    return (1.-x[0])**2.+100.*(x[1]-x[0]**2.)**2.\n",
    "dy=[0.1,0.1]\n",
    "x0=[0.,0.]\n",
    "eps=[10**(-3),10**(-3)]\n",
    "alp=2.\n",
    "lam=10**(-1)\n",
    "n=2\n",
    "rez=config(dy,x0,eps,alp,lam,n)\n",
    "print(rez,f(rez))"
   ]
  },
  {
   "cell_type": "code",
   "execution_count": 10,
   "metadata": {},
   "outputs": [
    {
     "name": "stdout",
     "output_type": "stream",
     "text": [
      "[-1.55     2.40625] 9.872429697502584\n"
     ]
    }
   ],
   "source": [
    "#№4\n",
    "def f(x):\n",
    "    return -10./(30.*(x[1]-x[0]**2.)**2.+5.*(1.5+x[0])**2.+1.)\n",
    "dy=[-0.5,0.5]\n",
    "x0=[-1.0,2.0]\n",
    "eps=[10**(-2.),10**(-2.)]\n",
    "alp=2.\n",
    "lam=10**(-1)\n",
    "n=2\n",
    "rez=config(dy,x0,eps,alp,lam,n)\n",
    "print(rez,-f(rez))"
   ]
  },
  {
   "cell_type": "code",
   "execution_count": 11,
   "metadata": {},
   "outputs": [
    {
     "name": "stdout",
     "output_type": "stream",
     "text": [
      "[8.01755643e-17 8.01755643e-17 8.01755643e-17] 5.785308997694858e-32\n"
     ]
    }
   ],
   "source": [
    "#№5\n",
    "def f(x):\n",
    "    return x[0]**2.+5.*x[1]**2.+3.*x[2]**2.+4.*x[0]*x[1]-2.*x[1]*x[2]-2.*x[0]*x[2]\n",
    "dy=[0.1,0.1,0.1]\n",
    "x0=[1.,1.,1.]\n",
    "eps=[10**(-3),10**(-3),10**(-3)]\n",
    "alp=2.\n",
    "lam=10**(-1)\n",
    "n=3\n",
    "rez=config(dy,x0,eps,alp,lam,n)\n",
    "print(rez,f(rez))"
   ]
  },
  {
   "cell_type": "markdown",
   "metadata": {
    "id": "gjuLXbxGN8M_"
   },
   "source": [
    "## 1.2 Метод первого порядка (метод градиентного спуска с постоянным шагом)"
   ]
  },
  {
   "cell_type": "markdown",
   "metadata": {
    "id": "zYGz2F0oOMp4"
   },
   "source": [
    "**Шаг 1.** Задать $x^0$, $0<\\varepsilon < 1$, $\\varepsilon_1 >0$, $\\varepsilon_2>0$, $M$ предельное число итераций.\n",
    "Найти градиент функции в произвольной точке $\\nabla f(x)=\\left ( \\frac{\\partial f}{\\partial x_1}, \\frac{\\partial f}{\\partial x_2}, \\ldots, \\frac{\\partial f}{\\partial x_n}\\right)^T$\n",
    "\n",
    "**Шаг 2.** Положить $k=0$.\n",
    "\n",
    "**Шаг 3.** Вычислить $\\nabla f\\left(x^k\\right)$.\n",
    "\n",
    "**Шаг 4.** Проверить выполнение критерия окончания $\\left\\|\\nabla f\\left(x^k\\right)\\right\\|<\\varepsilon_1$:\n",
    "\n",
    "  - если критерий выполнен, расчет закончен, x^*=~x^k$;\n",
    "  - если критерий не выполнен, то перейти к шагу 5.\n",
    "\n",
    "\n",
    "**Шаг 5.** Проверить выполнение неравенства $k\\ge M$:\n",
    "\n",
    "  - если неравенство выполнено, то расчет окончен:  $x^*=~x^k$;\n",
    "  - если нет, то перейти к шагу 6.\n",
    "\n",
    "**Шаг 6.**  Задать величину шага $t_k$.\n",
    "\n",
    "**Шаг 7.**  Вычислить $x^{k+1}=~x^k-~t_k~\\nabla f\\left(x^k\\right)$.\n",
    "\n",
    "**Шаг 8.**  Проверить выполнение условия $f\\left(x^{k+1}\\right)-f\\left(x^k\\right)<0$ (или $f\\left(x^{k+1}\\right)-f\\left(x^k\\right)<-\\varepsilon \\left\\|\\nabla f(x^k)\\right\\|^2$):\n",
    "\n",
    "  - если условие выполнено, то перейти к шагу 9;\n",
    "  - если условие не выполнено, положить $t^k=~\\frac{t^k}{2}$ и перейти к шагу 7.\n",
    "\n",
    "\n",
    "Шаг 9. Проверить выполнение условий\n",
    "$\\|x^{k+1}-~x^k\\|<\\varepsilon_2$, $\\left\\|{f(x}^{k+1})-~f(x^k)\\right\\|<\\varepsilon_2$\n",
    "\n",
    "   - если оба условия выполнены при текущем значении $k$ и $k=~k-1$, то расчет окончен, $x^*=~x^{k+1}$;\n",
    "   - если хотя бы одно из условий не выполнено, положить $k=~k+1$ и перейти к шагу 3.\n",
    "\n"
   ]
  },
  {
   "cell_type": "markdown",
   "metadata": {
    "id": "ASJp7D2cQN8x"
   },
   "source": [
    "### Задание 1.2"
   ]
  },
  {
   "cell_type": "markdown",
   "metadata": {
    "id": "CoTVqmdpQEAY"
   },
   "source": [
    "a) градиентного спуска с постоянным шагом.\n",
    "\n",
    "б) наискорейшего градиентного спуска, т.е. $t_k = \\arg \\min\\limits_{t_k} f (x^k-t_k\\nabla f(x^k))$.\n",
    "\n",
    "в) [тяжелого шарика Поляка](http://mech.math.msu.su/~vvb/MasterAI/GradientDescent.html), т.е. $x^{k+1}=x^k−t_k\\nabla f(x^k)+\\beta (x^k−x^{k−1}), 0 < \\beta < 1$.\n",
    "\n",
    "г) [градиентного спуска Нестерова](http://mech.math.msu.su/~vvb/MasterAI/GradientDescent.html), т.е.    \n",
    "$x^{k+1}=x^k−t_k\\nabla f(y^k)$, $y^{k+1}=x^{k+1}+\\beta(x^{k+1}−x^k)$,  $0 < \\beta < 1$.\n"
   ]
  },
  {
   "cell_type": "code",
   "execution_count": 12,
   "metadata": {},
   "outputs": [],
   "source": [
    "import numpy as np\n",
    "import math\n",
    "import numdifftools as nd\n",
    "from scipy.optimize import minimize_scalar"
   ]
  },
  {
   "cell_type": "code",
   "execution_count": 17,
   "metadata": {},
   "outputs": [
    {
     "name": "stdout",
     "output_type": "stream",
     "text": [
      "Requirement already satisfied: numdifftools in c:\\users\\vadim\\anaconda3\\lib\\site-packages (0.9.41)\n",
      "Requirement already satisfied: scipy>=0.8 in c:\\users\\vadim\\anaconda3\\lib\\site-packages (from numdifftools) (1.7.3)\n",
      "Requirement already satisfied: numpy>=1.9 in c:\\users\\vadim\\anaconda3\\lib\\site-packages (from numdifftools) (1.21.5)\n",
      "Note: you may need to restart the kernel to use updated packages.\n"
     ]
    }
   ],
   "source": [
    "pip install numdifftools"
   ]
  },
  {
   "cell_type": "code",
   "execution_count": 29,
   "metadata": {
    "id": "oWc5_Ktoe15g"
   },
   "outputs": [],
   "source": [
    "# пункт а\n",
    "#градиаент показывает направление наибольшего подъема функции \n",
    "#градиент с минусом показывает наибольший спуск\n",
    "#из точки шагаем на какую-то длину в сторону антиградиента(градиент с минусом)\n",
    "#если критерии остановки не выполнены, то уменьшаем длину шага в 2 раза\n",
    "import math\n",
    "import numdifftools as nd\n",
    "def module(x):\n",
    "    s=0\n",
    "    for i in range(len(x)):\n",
    "        s+=x[i]**2.\n",
    "    return math.sqrt(s)\n",
    "def gradsp(x0,eps,eps1,eps2,M,n):\n",
    "    k=0\n",
    "    xk=np.copy(x0)\n",
    "    xk1=[None]*n\n",
    "    grad=nd.Gradient(f)(x0)\n",
    "    while(module(grad)>=eps1):\n",
    "        grad=nd.Gradient(f)(xk)\n",
    "        if(k>=M):\n",
    "            return xk\n",
    "        tk=0.1\n",
    "        for i in range(n):\n",
    "             xk1[i]=xk[i]-grad[i]*tk\n",
    "        while(f(xk1)>=f(xk)):\n",
    "            tk/=2\n",
    "            for i in range(n):\n",
    "                xk1[i]=xk[i]-grad[i]*tk\n",
    "        d1=[None]*n #xk1-xk\n",
    "        for i in range(n):\n",
    "            d1[i]=xk1[i]-xk[i]\n",
    "        if (module(d1)<eps2):\n",
    "            if (math.fabs(f(xk1)-f(xk))<eps2):\n",
    "                if(k>0):\n",
    "                    d2=[None]*n\n",
    "                    for i in range(n):\n",
    "                        d2[i]=xk[i]-xkm1[i]\n",
    "                    if (module(d2)<eps2):\n",
    "                        if(math.fabs(f(xk)-f(xkm1))<eps2):\n",
    "                            return xk1\n",
    "        k+=1\n",
    "        xkm1=np.copy(xk)\n",
    "        xk=np.copy(xk1)\n",
    "    return xk     "
   ]
  },
  {
   "cell_type": "code",
   "execution_count": 30,
   "metadata": {},
   "outputs": [],
   "source": [
    "#пункт б\n",
    "#наискорейшего градиентного спуска - тоже самое только мы выбираем лучшую длину шага \n",
    "#модуль вектора\n",
    "def module(x):\n",
    "    s=0\n",
    "    for i in range(len(x)):\n",
    "        s+=x[i]**2.\n",
    "    return math.sqrt(s)\n",
    "#функция argmin(t,xk)=f(xk-t*grad(xk)), grad(xk)- градиент f в точке xk\n",
    "def argmin(t,xk):\n",
    "    return f(xk-t*nd.Gradient(f)(xk))\n",
    "#функция нахождения минимума по t от f(x-t*grad(x))\n",
    "def findtk(xk):\n",
    "    result = minimize_scalar(argmin, bounds=(0, 1),args=(xk), method='golden')\n",
    "    return result.x\n",
    "def gradspfastest(x0,eps,M,n):\n",
    "    k=0 #число проделанных итераций\n",
    "    xk=np.copy(x0) #положим xk=x0 при k=0\n",
    "    xk1=[None]*n  \n",
    "    grad=nd.Gradient(f)(x0) #градиент f в точке x0, функция из библиотеки numdifftools\n",
    "    while(module(grad)>=eps): #критерий окончания: норма градиента в точке xk >= eps\n",
    "        grad=nd.Gradient(f)(xk)\n",
    "        if(k>=M): #проверка на предельное число итераций\n",
    "            return xk\n",
    "        \n",
    "        tk=findtk(xk) #нахождение t [0;1] при котором f(xk-t*grad(xk)) минимальна\n",
    "        xk1=xk-grad*tk #вычислим xk1\n",
    "                \n",
    "        d1=[None]*n #xk1-xk\n",
    "        d1=xk1-xk\n",
    "        if (module(d1)<eps): # |xk1-xk|<eps\n",
    "            if (math.fabs(f(xk1)-f(xk))<eps): # |f(xk1)-f(xk)|<eps\n",
    "                if (module(nd.Gradient(f)(xk1))<eps):# ||grad(xk1)||<eps\n",
    "                    return xk1 #если все 3 условия выполнены, то возвращаем xk1\n",
    "        k+=1 #иначе повторяем цикл при k=k+1 \n",
    "        xk=np.copy(xk1)\n",
    "    return xk1"
   ]
  },
  {
   "cell_type": "code",
   "execution_count": 31,
   "metadata": {},
   "outputs": [],
   "source": [
    "def calculate_gradient(func, x, eps = 1e-6):\n",
    "    val = []\n",
    "    for i, k in enumerate(x):\n",
    "        delta_x = x.copy()\n",
    "        delta_x[i] += eps\n",
    "        val.append(round((func(delta_x) - func(x)) / eps, 4))\n",
    "    return val\n",
    "#тоже самое, только длина шага постоянная и прибавляяется вектор сдвига(разница между прошлой точкой и текущей) умноженный на бета\n",
    "def gradient_descent_ball_step(func, x0, step = 0.5, eps1 = 1e-6, eps2 = 1e-6, b = 0.25, max_iterations = 10000): #пункт в\n",
    "    points = [x0]; values = [func(x0)]\n",
    "    for i in range(max_iterations):\n",
    "        old_p = points[-1:][0]; old_f = func(old_p)\n",
    "        gradient = calculate_gradient(func, old_p)\n",
    "        grad_value = math.sqrt(sum([x**2 for x in gradient]))\n",
    "        if grad_value < eps1:\n",
    "            break\n",
    "        old_p = points[-2:]\n",
    "        old_f, grad = func(old_p[-1]), calculate_gradient(func, old_p[-1])\n",
    "        step = 0.5\n",
    "        while True:\n",
    "            new_p = [x - step * y for x, y in zip(old_p[0], grad)] if len(points) == 1 else \\\n",
    "                    [xk1 - step * gr + b * (xk1 - xk0) for xk0, xk1, gr in zip(old_p[0], old_p[1], grad)]\n",
    "            new_f = func(new_p)\n",
    "            if new_f - old_f <= 0: break\n",
    "            else: step /= 2\n",
    "        norm = abs(math.sqrt(sum([x**2 for x in [x - y for x, y in zip(new_p, points[-1])]])))\n",
    "        points.append(new_p)\n",
    "        values.append(func(new_p))\n",
    "        if norm < eps2 and abs(func(new_p) - old_f) < eps2:\n",
    "            break\n",
    "    return \"x: \" + str([round(x, 3) for x in points[-1]]), \"f(x): \" + str(round(values[-1], 3))\n"
   ]
  },
  {
   "cell_type": "code",
   "execution_count": 32,
   "metadata": {},
   "outputs": [],
   "source": [
    "\n",
    "#тоже самое что и в пункте в, только еще считаем градиент в предположительной следующей точке, в которую попадем\n",
    "def gradient_descent_nester_step(func, x0, step = 0.5, eps1 = 1e-6, eps2 = 1e-6, b = 0.25, max_iterations = 10000): #пункт г\n",
    "    x_points = [x0]; y_points = []; values = [func(x0)]\n",
    "    for i in range(max_iterations):\n",
    "        old_p = x_points[-1:][0]; old_f = func(old_p)\n",
    "        gradient = calculate_gradient(func, old_p)\n",
    "        grad_value = math.sqrt(sum([x**2 for x in gradient]))\n",
    "        if grad_value < eps1:\n",
    "            break\n",
    "        step = 0.5\n",
    "        old_p = x_points[-2:]; old_f = func(old_p[-1])\n",
    "        if len(y_points) == 0 : y_points.append(old_p[0])\n",
    "        grad = calculate_gradient(func, y_points[-1])\n",
    "        while True:\n",
    "            new_p = [y - step * gr for y, gr in zip(y_points[-1], grad)]\n",
    "            new_f = func(new_p)\n",
    "            if new_f - old_f < 0: break\n",
    "            else: step /= 2\n",
    "        y_points.append([xk1 + b * (xk1 - xk0) for xk0, xk1 in zip(old_p[-1], new_p)])\n",
    "\n",
    "        norm = abs(math.sqrt(sum([x**2 for x in [x - y for x, y in zip(new_p, x_points[-1])]])))\n",
    "        x_points.append(new_p)\n",
    "        values.append(func(new_p))\n",
    "        if norm < eps2 and abs(func(new_p) - old_f) < eps2:\n",
    "            break\n",
    "    return \"x: \" + str([round(x, 3) for x in x_points[-1]]), \"f(x): \" + str(round(values[-1], 3))"
   ]
  },
  {
   "cell_type": "code",
   "execution_count": 41,
   "metadata": {},
   "outputs": [
    {
     "name": "stdout",
     "output_type": "stream",
     "text": [
      "постоянный шаг [ 0.50523698 -1.24140378] -6.43742984067292\n",
      "наискорейший спуск [ 0.50012825 -1.24997148] -6.437499978171298\n",
      "тяжелого шарика поляка ('x: [0.5, -1.25]', 'f(x): -6.437')\n",
      "нестерова ('x: [0.5, -1.25]', 'f(x): -6.437')\n"
     ]
    }
   ],
   "source": [
    "#2\n",
    "def f(x):\n",
    "    return x[0]**3.-x[0]*x[1]+x[1]**2.-2.*x[0]+3.*x[1]-4\n",
    "x0=[1.2,1.4]\n",
    "eps=10**(-3)\n",
    "eps1=10**(-3)\n",
    "eps2=10**(-3)\n",
    "M=35\n",
    "n=2\n",
    "rez=gradsp(x0,eps,eps1,eps2,M,n)\n",
    "print('постоянный шаг',rez,f(rez))\n",
    "rez=gradspfastest(x0,eps,M,n)\n",
    "print('наискорейший спуск',rez,f(rez))\n",
    "print('тяжелого шарика поляка', gradient_descent_ball_step(f, x0))\n",
    "print('нестерова', gradient_descent_nester_step(f, x0))"
   ]
  },
  {
   "cell_type": "code",
   "execution_count": 42,
   "metadata": {},
   "outputs": [
    {
     "name": "stdout",
     "output_type": "stream",
     "text": [
      "постоянный шаг [0.8703713499085441, 0.7571724484852913] 0.01681756242872269\n",
      "наискорейший спуск [0.97546677 0.95143999] 0.0006027900711648086\n",
      "тяжелого шарика поляка ('x: [0.999, 0.999]', 'f(x): 0.0')\n",
      "нестерова ('x: [0.999, 0.999]', 'f(x): 0.0')\n"
     ]
    }
   ],
   "source": [
    "#3\n",
    "def f(x):\n",
    "    return (1.-x[0])**2.+100.*(x[1]-x[0]**2.)**2.\n",
    "x0=[0.8,0.8]\n",
    "eps=10**(-3)\n",
    "eps1=10**(-3)\n",
    "eps2=10**(-3)\n",
    "M=35\n",
    "n=2\n",
    "rez=gradsp(x0,eps,eps1,eps2,M,n)\n",
    "print('постоянный шаг',rez,f(rez))\n",
    "rez=gradspfastest(x0,eps,M,n)\n",
    "print('наискорейший спуск',rez,f(rez))\n",
    "print('тяжелого шарика поляка', gradient_descent_ball_step(f, x0))\n",
    "print('нестерова', gradient_descent_nester_step(f, x0))"
   ]
  },
  {
   "cell_type": "code",
   "execution_count": 27,
   "metadata": {},
   "outputs": [
    {
     "name": "stdout",
     "output_type": "stream",
     "text": [
      "постоянный шаг [-1.4964496777629102, 2.239212849297616] -9.999363159729542\n",
      "наискорейший спуск [-1.49999742  2.24999212] -9.999999999661169\n",
      "тяжелого шарика поляка ('x: [-1.5, 2.25]', 'f(x): -10.0')\n",
      "нестерова ('x: [-1.5, 2.25]', 'f(x): -10.0')\n"
     ]
    }
   ],
   "source": [
    "#4\n",
    "def f(x):\n",
    "    return -10./(30.*(x[1]-x[0]**2.)**2.+5.*(1.5+x[0])**2.+1.)\n",
    "x0=[-1.4,2.2]\n",
    "eps=10**(-4)\n",
    "eps1=10**(-4)\n",
    "eps2=10**(-4)\n",
    "M=500\n",
    "n=2\n",
    "rez=gradsp(x0,eps,eps1,eps2,M,n)\n",
    "print('постоянный шаг',rez,f(rez))\n",
    "rez=gradspfastest(x0,eps,M,n)\n",
    "print('наискорейший спуск',rez,f(rez))\n",
    "print('тяжелого шарика поляка', gradient_descent_ball_step(f, x0))\n",
    "print('нестерова', gradient_descent_nester_step(f, x0))"
   ]
  },
  {
   "cell_type": "code",
   "execution_count": 28,
   "metadata": {},
   "outputs": [
    {
     "name": "stdout",
     "output_type": "stream",
     "text": [
      "постоянный шаг [-0.09639308  0.03478811 -0.02095953] 0.000664839821080036\n",
      "наискорейший спуск [-0.06514777  0.02392691 -0.01435603] 0.0003063287160393617\n"
     ]
    },
    {
     "ename": "KeyboardInterrupt",
     "evalue": "",
     "output_type": "error",
     "traceback": [
      "\u001b[1;31m---------------------------------------------------------------------------\u001b[0m",
      "\u001b[1;31mKeyboardInterrupt\u001b[0m                         Traceback (most recent call last)",
      "Input \u001b[1;32mIn [28]\u001b[0m, in \u001b[0;36m<cell line: 14>\u001b[1;34m()\u001b[0m\n\u001b[0;32m     12\u001b[0m rez\u001b[38;5;241m=\u001b[39mgradspfastest(x0,eps,M,n)\n\u001b[0;32m     13\u001b[0m \u001b[38;5;28mprint\u001b[39m(\u001b[38;5;124m'\u001b[39m\u001b[38;5;124mнаискорейший спуск\u001b[39m\u001b[38;5;124m'\u001b[39m,rez,f(rez))\n\u001b[1;32m---> 14\u001b[0m \u001b[38;5;28mprint\u001b[39m(\u001b[38;5;124m'\u001b[39m\u001b[38;5;124mтяжелого шарика поляка\u001b[39m\u001b[38;5;124m'\u001b[39m, \u001b[43mgradient_descent_ball_step\u001b[49m\u001b[43m(\u001b[49m\u001b[43mf\u001b[49m\u001b[43m,\u001b[49m\u001b[43m \u001b[49m\u001b[43mx0\u001b[49m\u001b[43m)\u001b[49m)\n\u001b[0;32m     15\u001b[0m \u001b[38;5;28mprint\u001b[39m(\u001b[38;5;124m'\u001b[39m\u001b[38;5;124mнестерова\u001b[39m\u001b[38;5;124m'\u001b[39m, gradient_descent_nester_step(f, x0))\n",
      "Input \u001b[1;32mIn [20]\u001b[0m, in \u001b[0;36mgradient_descent_ball_step\u001b[1;34m(func, x0, step, eps1, eps2, b, max_iterations)\u001b[0m\n\u001b[0;32m     19\u001b[0m step \u001b[38;5;241m=\u001b[39m \u001b[38;5;241m0.5\u001b[39m\n\u001b[0;32m     20\u001b[0m \u001b[38;5;28;01mwhile\u001b[39;00m \u001b[38;5;28;01mTrue\u001b[39;00m:\n\u001b[0;32m     21\u001b[0m     new_p \u001b[38;5;241m=\u001b[39m [x \u001b[38;5;241m-\u001b[39m step \u001b[38;5;241m*\u001b[39m y \u001b[38;5;28;01mfor\u001b[39;00m x, y \u001b[38;5;129;01min\u001b[39;00m \u001b[38;5;28mzip\u001b[39m(old_p[\u001b[38;5;241m0\u001b[39m], grad)] \u001b[38;5;28;01mif\u001b[39;00m \u001b[38;5;28mlen\u001b[39m(points) \u001b[38;5;241m==\u001b[39m \u001b[38;5;241m1\u001b[39m \u001b[38;5;28;01melse\u001b[39;00m \\\n\u001b[1;32m---> 22\u001b[0m             [xk1 \u001b[38;5;241m-\u001b[39m step \u001b[38;5;241m*\u001b[39m gr \u001b[38;5;241m+\u001b[39m b \u001b[38;5;241m*\u001b[39m (xk1 \u001b[38;5;241m-\u001b[39m xk0) \u001b[38;5;28;01mfor\u001b[39;00m xk0, xk1, gr \u001b[38;5;129;01min\u001b[39;00m \u001b[38;5;28mzip\u001b[39m(old_p[\u001b[38;5;241m0\u001b[39m], old_p[\u001b[38;5;241m1\u001b[39m], grad)]\n\u001b[0;32m     23\u001b[0m     new_f \u001b[38;5;241m=\u001b[39m func(new_p)\n\u001b[0;32m     24\u001b[0m     \u001b[38;5;28;01mif\u001b[39;00m new_f \u001b[38;5;241m-\u001b[39m old_f \u001b[38;5;241m<\u001b[39m\u001b[38;5;241m=\u001b[39m \u001b[38;5;241m0\u001b[39m: \u001b[38;5;28;01mbreak\u001b[39;00m\n",
      "Input \u001b[1;32mIn [20]\u001b[0m, in \u001b[0;36m<listcomp>\u001b[1;34m(.0)\u001b[0m\n\u001b[0;32m     19\u001b[0m step \u001b[38;5;241m=\u001b[39m \u001b[38;5;241m0.5\u001b[39m\n\u001b[0;32m     20\u001b[0m \u001b[38;5;28;01mwhile\u001b[39;00m \u001b[38;5;28;01mTrue\u001b[39;00m:\n\u001b[0;32m     21\u001b[0m     new_p \u001b[38;5;241m=\u001b[39m [x \u001b[38;5;241m-\u001b[39m step \u001b[38;5;241m*\u001b[39m y \u001b[38;5;28;01mfor\u001b[39;00m x, y \u001b[38;5;129;01min\u001b[39;00m \u001b[38;5;28mzip\u001b[39m(old_p[\u001b[38;5;241m0\u001b[39m], grad)] \u001b[38;5;28;01mif\u001b[39;00m \u001b[38;5;28mlen\u001b[39m(points) \u001b[38;5;241m==\u001b[39m \u001b[38;5;241m1\u001b[39m \u001b[38;5;28;01melse\u001b[39;00m \\\n\u001b[1;32m---> 22\u001b[0m             [xk1 \u001b[38;5;241m-\u001b[39m \u001b[43mstep\u001b[49m\u001b[43m \u001b[49m\u001b[38;5;241;43m*\u001b[39;49m\u001b[43m \u001b[49m\u001b[43mgr\u001b[49m \u001b[38;5;241m+\u001b[39m b \u001b[38;5;241m*\u001b[39m (xk1 \u001b[38;5;241m-\u001b[39m xk0) \u001b[38;5;28;01mfor\u001b[39;00m xk0, xk1, gr \u001b[38;5;129;01min\u001b[39;00m \u001b[38;5;28mzip\u001b[39m(old_p[\u001b[38;5;241m0\u001b[39m], old_p[\u001b[38;5;241m1\u001b[39m], grad)]\n\u001b[0;32m     23\u001b[0m     new_f \u001b[38;5;241m=\u001b[39m func(new_p)\n\u001b[0;32m     24\u001b[0m     \u001b[38;5;28;01mif\u001b[39;00m new_f \u001b[38;5;241m-\u001b[39m old_f \u001b[38;5;241m<\u001b[39m\u001b[38;5;241m=\u001b[39m \u001b[38;5;241m0\u001b[39m: \u001b[38;5;28;01mbreak\u001b[39;00m\n",
      "\u001b[1;31mKeyboardInterrupt\u001b[0m: "
     ]
    }
   ],
   "source": [
    "#5\n",
    "def f(x):\n",
    "    return x[0]**2.+5.*x[1]**2.+3.*x[2]**2.+4.*x[0]*x[1]-2.*x[1]*x[2]-2.*x[0]*x[2]\n",
    "x0=[-1.7, -2.3, 3.2]\n",
    "eps=10**(-3)\n",
    "eps1=10**(-3)\n",
    "eps2=10**(-3)\n",
    "M=35\n",
    "n=3\n",
    "rez=gradsp(x0,eps,eps1,eps2,M,n)\n",
    "print('постоянный шаг',rez,f(rez))\n",
    "rez=gradspfastest(x0,eps,M,n)\n",
    "print('наискорейший спуск',rez,f(rez))\n",
    "print('тяжелого шарика поляка', gradient_descent_ball_step(f, x0))\n",
    "print('нестерова', gradient_descent_nester_step(f, x0))"
   ]
  },
  {
   "cell_type": "markdown",
   "metadata": {
    "id": "BBlMALt4Qdr-"
   },
   "source": [
    "##1.3 Метод второго порядка (метод Ньютона)"
   ]
  },
  {
   "cell_type": "markdown",
   "metadata": {
    "id": "HClLVLYwX1pp"
   },
   "source": [
    "**Шаг 1.** Задать $M, \\varepsilon_1>0,  \\varepsilon_2>0$ и точку начального приближения $x_0$;\n",
    "\n",
    "**Шаг 2.** Положить $k=0$.\n",
    "\n",
    "**Шаг 3.** Вычислить $\\nabla f(x_k)$.\n",
    "\n",
    "**Шаг 4.** Проверить выполнение критерия окончания $||\\nabla f(x_k)||\\leq \\varepsilon _1$:\n",
    "\n",
    "   - если неравествно выполнено, то расчет окончен и $x^*=x^k$;\n",
    "   - в противном случае перейти к шагу 5.\n",
    "\n",
    "\n",
    "**Шаг 5.** Проверить выполнение неравенства $k\\geq M$:\n",
    "\n",
    "   - если неравествно выполнено, то расчет окончен и $x^*=x^k$;\n",
    "   - в противном случае перейти к шагу 6.\n",
    "\n",
    "**Шаг 6.** Вычислить матрицу $H(x_k)$.\n",
    "\n",
    "**Шаг 7.** Вычислить матрицу $H^{-1}(x_k)$.\n",
    "\n",
    "**Шаг 8.** Проверить выполнение условия $H^{-1}(x_k)>0$:\n",
    "\n",
    "   - если $H^{-1}(x_k)>0$, то перейти к шагу 9;\n",
    "   - иначе перейти к шагу 10, положив $d^k=-\\nabla f(x^k)$.\n",
    "\n",
    "**Шаг 9.** Определить $d^k=-H^{-1}(x^k)\\nabla f(x^k)$.\n",
    "\n",
    "**Шаг 10.** Найти точку $x^{k+1}=x^k+t_kd^k$, положив $t_k=1$, если $d^k=-H^{-1}(x^k)\\nabla f(x^k)$, или выбрав $t_k$ из условия $f(x^{k+1})<f(x^k)$, если $d^k=-\\nabla f(x^k)$.\n",
    "\n",
    "**Шаг 11.** Проверить выполнение условий $||x^{k+1}-x^k||<\\varepsilon_1, |f(x^{k+1})-f(x^k)|<\\varepsilon_2$:\n",
    "   - если оба условия выполнены при текущем значение $k$ и $k=k-1$, то расчёт окончен, $x^*=x^{k+1}$;\n",
    "   - в противном случае положить $k=k+1$ и перейти к шагу 3.\n",
    "\n"
   ]
  },
  {
   "cell_type": "markdown",
   "metadata": {
    "id": "ki9CZIEkZZct"
   },
   "source": [
    "### Задание 1.3"
   ]
  },
  {
   "cell_type": "markdown",
   "metadata": {
    "id": "JokAJSoqZZ0Q"
   },
   "source": [
    "1) Напишите функцию реализующую алгоритм поиска минимима функции методом Ньютона.  \n",
    "2) С помощью функции найдите минимальное значение функции $$f_1(x)=x_1^3-x_1x_2+x^2_2-2x_1+3x_2-4.$$\n",
    "3) С помощью функции найдите минимальное значение функции Розенброка $$f_2(x)=(1-x_1)^{2}+100(x_2-x_1^{2})^{2}.$$\n",
    "\n",
    "4) С помощью функции найдите максимум функции $$f_3(x)=\\frac{10}{30(x_2-x_1^2)^2+5(1.5+x_1)^2+1}.$$\n",
    "\n",
    "5)  С помощью функции найдите минимальное значение функции  $$f_4(x)=x_1^2+5x_2^2+3x_3^2+4x_1x_2-2x_2x_3-2x_1x_3.$$"
   ]
  },
  {
   "cell_type": "code",
   "execution_count": 154,
   "metadata": {},
   "outputs": [
    {
     "name": "stdout",
     "output_type": "stream",
     "text": [
      "Requirement already satisfied: numpy in c:\\users\\vadim\\anaconda3\\lib\\site-packages (1.21.5)\n",
      "Requirement already satisfied: sympy in c:\\users\\vadim\\anaconda3\\lib\\site-packages (1.10.1)\n",
      "Requirement already satisfied: mpmath>=0.19 in c:\\users\\vadim\\anaconda3\\lib\\site-packages (from sympy) (1.2.1)\n",
      "Note: you may need to restart the kernel to use updated packages.\n"
     ]
    }
   ],
   "source": [
    "pip install numpy sympy"
   ]
  },
  {
   "cell_type": "code",
   "execution_count": 159,
   "metadata": {},
   "outputs": [
    {
     "name": "stdout",
     "output_type": "stream",
     "text": [
      "Collecting autograd\n",
      "  Downloading autograd-1.5-py3-none-any.whl (48 kB)\n",
      "Requirement already satisfied: numpy>=1.12 in c:\\users\\vadim\\anaconda3\\lib\\site-packages (from autograd) (1.21.5)\n",
      "Requirement already satisfied: future>=0.15.2 in c:\\users\\vadim\\anaconda3\\lib\\site-packages (from autograd) (0.18.2)\n",
      "Installing collected packages: autograd\n",
      "Successfully installed autograd-1.5\n",
      "Note: you may need to restart the kernel to use updated packages.\n"
     ]
    }
   ],
   "source": [
    "pip install autograd"
   ]
  },
  {
   "cell_type": "code",
   "execution_count": 14,
   "metadata": {},
   "outputs": [],
   "source": [
    "#для нахождения матрицы гессе\n",
    "from autograd import elementwise_grad as egrad\n",
    "from autograd import jacobian\n",
    "import autograd.numpy as np\n"
   ]
  },
  {
   "cell_type": "code",
   "execution_count": 91,
   "metadata": {
    "id": "sQC1Orvye0iB"
   },
   "outputs": [],
   "source": [
    "#считаем градиент, считаем матрицу гессе (матрица вторый производных), суть та же что и всегда, выбираем куда шагать\n",
    "#наше направение будет считаться как обратнаяя матрица гессе умноженная на градиент и это умноженное на минус \n",
    "#получаем вектор, прибавляяем к текущей точке повторяем пока не заебет\n",
    "# Ваш код здесь\n",
    "def newton(x0,eps1,eps2,M,n):\n",
    "    grad=nd.Gradient(f)(x0)\n",
    "    xk=np.copy(x0)\n",
    "    k=0\n",
    "    xk1=[None]*n\n",
    "    while(module(grad)>=eps1):\n",
    "        grad=nd.Gradient(f)(xk)\n",
    "        if(k>=M):\n",
    "            return xk\n",
    "        x_value = np.array(xk)  # вычисление матрицы гессе\n",
    "        H_f = jacobian(egrad(f))  # матрица\n",
    "        H=H_f(x_value)#матрица в точке\n",
    "        invH=np.linalg.inv(H)#обратная ей\n",
    "        w,v = np.linalg.eig(invH)#находим собственные значения для определения знака матрицы\n",
    "        ispos=1#проверка собственный значений, если есть неположительное, то матрица не положительно полуопределенная\n",
    "        for i in range(n):\n",
    "            if (w[i]<=0):\n",
    "                ispos=0\n",
    "        if(ispos<1):\n",
    "            dk=[None]*n\n",
    "            for i in range(n):\n",
    "                dk[i]=-grad[i]\n",
    "            tk=0.5\n",
    "        else:\n",
    "            dk=-np.dot(invH,grad)\n",
    "            tk=1.\n",
    "        for i in range(n):\n",
    "            xk1[i]=xk[i]+tk*dk[i]\n",
    "        d1=[None]*n #xk1-xk\n",
    "        for i in range(n):\n",
    "            d1[i]=xk1[i]-xk[i]\n",
    "        if (module(d1)<eps2):\n",
    "            if (math.fabs(f(xk1)-f(xk))<eps2):\n",
    "                if(k>0):\n",
    "                    d2=[None]*n\n",
    "                    for i in range(n):\n",
    "                        d2[i]=xk[i]-xkm1[i]\n",
    "                    if (module(d2)<eps2):\n",
    "                        if(math.fabs(f(xk)-f(xkm1))<eps2):\n",
    "                            return xk1\n",
    "        k+=1\n",
    "        xkm1=np.copy(xk)\n",
    "        xk=np.copy(xk1)\n",
    "    return xk\n"
   ]
  },
  {
   "cell_type": "code",
   "execution_count": 92,
   "metadata": {},
   "outputs": [
    {
     "name": "stdout",
     "output_type": "stream",
     "text": [
      "[ 0.50000013 -1.24999994] -6.43749999999998\n"
     ]
    }
   ],
   "source": [
    "#2\n",
    "def f(x):\n",
    "    return x[0]**3.-x[0]*x[1]+x[1]**2.-2.*x[0]+3.*x[1]-4\n",
    "x0=[1.,1.]\n",
    "eps1=10**(-3)\n",
    "eps2=10**(-3)\n",
    "M=10\n",
    "n=2\n",
    "rez=newton(x0,eps1,eps2,M,n)\n",
    "print(rez,f(rez))"
   ]
  },
  {
   "cell_type": "code",
   "execution_count": 93,
   "metadata": {},
   "outputs": [
    {
     "name": "stdout",
     "output_type": "stream",
     "text": [
      "[1.         0.99999997] 6.429926145218227e-14\n"
     ]
    }
   ],
   "source": [
    "#3\n",
    "def f(x):\n",
    "    return (1.-x[0])**2.+100.*(x[1]-x[0]**2.)**2.\n",
    "x0=[0.5,0.5]\n",
    "eps1=10**(-3)\n",
    "eps2=10**(-3)\n",
    "M=10\n",
    "n=2\n",
    "rez=newton(x0,eps1,eps2,M,n)\n",
    "print(rez,f(rez))"
   ]
  },
  {
   "cell_type": "code",
   "execution_count": 122,
   "metadata": {},
   "outputs": [
    {
     "name": "stdout",
     "output_type": "stream",
     "text": [
      "[-1.5000000048450677, 2.2500000140525667] 9.999999999999998\n"
     ]
    }
   ],
   "source": [
    "#4\n",
    "def f(x):\n",
    "    return -10./(30.*(x[1]-x[0]**2.)**2.+5.*(1.5+x[0])**2.+1.)\n",
    "x0=[-1.47,2.2]\n",
    "eps1=10**(-1.)\n",
    "eps2=10**(-1.)\n",
    "M=50\n",
    "n=2\n",
    "rez=newton(x0,eps1,eps2,M,n)\n",
    "print(rez,-f(rez))"
   ]
  },
  {
   "cell_type": "code",
   "execution_count": 99,
   "metadata": {},
   "outputs": [
    {
     "name": "stdout",
     "output_type": "stream",
     "text": [
      "[0.00000000e+00 0.00000000e+00 1.97215226e-31] 1.166815364598964e-61\n"
     ]
    }
   ],
   "source": [
    "#5\n",
    "def f(x):\n",
    "    return x[0]**2.+5.*x[1]**2.+3.*x[2]**2.+4.*x[0]*x[1]-2.*x[1]*x[2]-2.*x[0]*x[2]\n",
    "x0=[1.,1.,1.]\n",
    "eps1=10**(-3)\n",
    "eps2=10**(-3)\n",
    "M=10\n",
    "n=3\n",
    "rez=newton(x0,eps1,eps2,M,n)\n",
    "print(rez,f(rez))"
   ]
  },
  {
   "cell_type": "markdown",
   "metadata": {
    "id": "QsAUCmGIZjLZ"
   },
   "source": [
    "##Задание 1.4"
   ]
  },
  {
   "cell_type": "markdown",
   "metadata": {
    "id": "UHJd7iFeZpLM"
   },
   "source": [
    "1) Выбрать функцию поиска минимума из библиотеки SciPy \n",
    " - опишите все входные и выходные параметры функции, типы данных параметров и методы оптимизации, которые применяются в функции\n",
    " - С помощью функции найдите минимальное значение функции $$f_1(x)=x_1^3-x_1x_2+x^2_2-2x_1+3x_2-4.$$\n",
    " - С помощью функции найдите минимальное значение функции Розенброка $$f_2(x)=(1-x_1)^{2}+100(x_2-x_1^{2})^{2}.$$\n",
    "\n",
    " - С помощью функции найдите максимум функции $$f_3(x)=\\frac{10}{30(x_2-x_1^2)^2+5(1.5+x_1)^2+1}.$$\n",
    "\n",
    " - С помощью функции найдите минимальное значение функции  $$f_4(x)=x_1^2+5x_2^2+3x_3^2+4x_1x_2-2x_2x_3-2x_1x_3.$$\n",
    "\n",
    "2) Сравнить результаты п. 1 с результами выполнения заданий 1.1, 1.2, 1.3. Ответ обосновать."
   ]
  },
  {
   "cell_type": "markdown",
   "metadata": {
    "id": "d8NSJZq-els0"
   },
   "source": [
    "Ваш ответ здесь. "
   ]
  },
  {
   "cell_type": "code",
   "execution_count": 5,
   "metadata": {},
   "outputs": [],
   "source": [
    "from scipy import optimize"
   ]
  },
  {
   "cell_type": "code",
   "execution_count": 22,
   "metadata": {
    "id": "339EXop8epJ4"
   },
   "outputs": [
    {
     "name": "stdout",
     "output_type": "stream",
     "text": [
      " final_simplex: (array([[ 0.49976149, -1.25019525],\n",
      "       [ 0.49990734, -1.24938012],\n",
      "       [ 0.50050379, -1.25023151]]), array([-6.43749992, -6.43749955, -6.43749945]))\n",
      "           fun: -6.437499923131178\n",
      "       message: 'Optimization terminated successfully.'\n",
      "          nfev: 67\n",
      "           nit: 35\n",
      "        status: 0\n",
      "       success: True\n",
      "             x: array([ 0.49976149, -1.25019525])\n"
     ]
    }
   ],
   "source": [
    "# Ваш код здесь\n",
    "#просто пользуемся библиотекой\n",
    "#1\n",
    "def f(x):\n",
    "    return x[0]**3.-x[0]*x[1]+x[1]**2.-2.*x[0]+3.*x[1]-4\n",
    "def df(x):\n",
    "    return nd.Gradient(f)(x0)\n",
    "x0=[1.,1.]\n",
    "eps=10**(-3)\n",
    "rez=scipy.optimize.minimize(f,x0, method='Nelder-Mead', jac=None, hess=None, hessp=None, bounds=None, constraints=(), tol=eps, callback=None, options=None)\n",
    "print(rez)"
   ]
  },
  {
   "cell_type": "code",
   "execution_count": 23,
   "metadata": {},
   "outputs": [
    {
     "name": "stdout",
     "output_type": "stream",
     "text": [
      " final_simplex: (array([[1.00014893, 1.00028968],\n",
      "       [0.99970445, 0.99941807],\n",
      "       [0.99996992, 0.99989574]]), array([2.89137638e-08, 9.56082794e-08, 1.95431711e-07]))\n",
      "           fun: 2.8913763803158213e-08\n",
      "       message: 'Optimization terminated successfully.'\n",
      "          nfev: 88\n",
      "           nit: 47\n",
      "        status: 0\n",
      "       success: True\n",
      "             x: array([1.00014893, 1.00028968])\n"
     ]
    }
   ],
   "source": [
    "# Ваш код здесь\n",
    "#2\n",
    "def f(x):\n",
    "    return (1.-x[0])**2.+100.*(x[1]-x[0]**2.)**2.\n",
    "x0=[0.5,0.5]\n",
    "eps=10**(-3)\n",
    "rez=scipy.optimize.minimize(f,x0, method='Nelder-Mead', jac=None, hess=None, hessp=None, bounds=None, constraints=(), tol=eps, callback=None, options=None)\n",
    "print(rez)"
   ]
  },
  {
   "cell_type": "code",
   "execution_count": 26,
   "metadata": {},
   "outputs": [
    {
     "name": "stdout",
     "output_type": "stream",
     "text": [
      " final_simplex: (array([[-1.50008446,  2.25021997],\n",
      "       [-1.49985961,  2.24958089],\n",
      "       [-1.49991175,  2.24979766]]), array([-9.99999931, -9.99999901, -9.99999844]))\n",
      "           fun: -9.99999930826452\n",
      "       message: 'Optimization terminated successfully.'\n",
      "          nfev: 44\n",
      "           nit: 23\n",
      "        status: 0\n",
      "       success: True\n",
      "             x: array([-1.50008446,  2.25021997])\n"
     ]
    }
   ],
   "source": [
    "# Ваш код здесь\n",
    "#3\n",
    "def f(x):\n",
    "    return -10./(30.*(x[1]-x[0]**2.)**2.+5.*(1.5+x[0])**2.+1.)\n",
    "x0=[-1.47,2.2]\n",
    "eps=10**(-3.)\n",
    "rez=scipy.optimize.minimize(f,x0, method='Nelder-Mead', jac=None, hess=None, hessp=None, bounds=None, constraints=(), tol=eps, callback=None, options=None)\n",
    "print(rez)"
   ]
  },
  {
   "cell_type": "code",
   "execution_count": 27,
   "metadata": {},
   "outputs": [
    {
     "name": "stdout",
     "output_type": "stream",
     "text": [
      " final_simplex: (array([[ 4.32757923e-04, -1.94047265e-04,  8.86771208e-05],\n",
      "       [-2.69564411e-04,  1.68398704e-04, -5.25977725e-06],\n",
      "       [ 4.94849188e-04, -1.21334323e-04,  3.07807736e-04],\n",
      "       [ 1.09275687e-03, -2.85838287e-04,  2.72625528e-04]]), array([2.09037073e-08, 3.18971767e-08, 1.32612320e-07, 1.36229025e-07]))\n",
      "           fun: 2.090370731764389e-08\n",
      "       message: 'Optimization terminated successfully.'\n",
      "          nfev: 139\n",
      "           nit: 75\n",
      "        status: 0\n",
      "       success: True\n",
      "             x: array([ 4.32757923e-04, -1.94047265e-04,  8.86771208e-05])\n"
     ]
    }
   ],
   "source": [
    "# Ваш код здесь\n",
    "#4\n",
    "def f(x):\n",
    "    return x[0]**2.+5.*x[1]**2.+3.*x[2]**2.+4.*x[0]*x[1]-2.*x[1]*x[2]-2.*x[0]*x[2]\n",
    "x0=[1.,1.,1.]\n",
    "ep1=10**(-3)\n",
    "rez=scipy.optimize.minimize(f,x0, method='Nelder-Mead', jac=None, hess=None, hessp=None, bounds=None, constraints=(), tol=eps, callback=None, options=None)\n",
    "print(rez)"
   ]
  },
  {
   "cell_type": "markdown",
   "metadata": {
    "id": "NTUhkgIyAR1u"
   },
   "source": [
    "# Часть 2 Решение задач"
   ]
  },
  {
   "cell_type": "markdown",
   "metadata": {
    "id": "oAL_1WNXAZMn"
   },
   "source": [
    "\n",
    "1. Найти и классифицировать матрицу Гессе функции $f\\left(x\\right)=x_{1}^{2} -x_{2}^{2} $\n",
    "2.   Найти и классифицировать матрицу Гессе функции $f\\left(x\\right)=x_{1}^{2} -4x_{1} x_{2}$ \n",
    "3.  Методом первого порядка решить задачу $$f(x)=4(x_1-5)^2+(x_2-6)^2\\to \\min, x^0=(8,9)^T, \\varepsilon_1=\\varepsilon_2=0.1.$$\n",
    "4.   Методом первого порядка решить задачу $$f(x)=-x_1x_2e^{-x_1-x_2}\\to \\min, x^0=(0,1)^T, \\varepsilon_1=\\varepsilon_2=0.1.$$\n",
    "5.   Методом второго порядка решить задачу $$f(x)=x_1^2+x_1x_2+2x_2\\to \\min.$$\n",
    "6.   Методом первого порядка решить задачу $$f(x)=-x_1x_2e^{-x_1-x_2}\\to \\min, x^0=(0,1)^T, \\varepsilon_1=\\varepsilon_2=0.1.$$\n",
    "7.   Методом второго порядка решить задачу $$f(x)=x_1^2+3x_1x_2+2x_2\\to \\min.$$\n",
    "\n",
    "8.   Разделить положительное  число на две части так, чтобы произведение произведения этих частей на их разхность было максимальным.\n",
    "9.   На плоскости даны три точки: $x_1$, $x_2$, $x_3$. Найти такую точку $x_0$, чтобы сумма квадратов расстояний от $x_0$ до $x_1$, $x_2$, $x_3$ была минимальной.\n",
    "10. Найти безусловный экстремум функции $f(x)=4x^2_1+3x^2_2-4x_1x_2+x_1$.\n",
    "11. Проверить, является ли точка $x^*=(0,0,0)^T$ точкой безусловного экстремума функции $f(x)=x^2_1+2x^2_2-3x^2_3-6x_1x_2+8x_1x_3-4x_2x_3$.\n",
    "12. Проверить, является ли точка $x^*=(1,1)^T$ точкой безусловного экстремума функции $f(x)=(x_2-x_1^2)^2+(1-x_1)^2+10(x^2-1)^2$.\n",
    "\n",
    "\n"
   ]
  },
  {
   "cell_type": "markdown",
   "metadata": {
    "id": "hASVWpxmC9Am"
   },
   "source": [
    "#Часть 3 Теоретический минимум "
   ]
  },
  {
   "cell_type": "markdown",
   "metadata": {
    "id": "54YYfe8HDCIH"
   },
   "source": [
    "## Теоретический минимум по методам оптимизации"
   ]
  },
  {
   "cell_type": "markdown",
   "metadata": {
    "id": "cgpbgDdtDH7w"
   },
   "source": [
    "1.   В чем заключается задача многомерной безусловной оптимизации?\n",
    "найти минимум\n",
    "2.   Какие условия называются необходимыми и достаточными условиями безусловного экстремума функции?\n",
    "первые производные равны нулю и существуют, матрица гессе знакоопределенна\n",
    "3.   Что такое точка глобального минимума функции?\n",
    "знаешь\n",
    "4.   Что такое точка локального минимума функции?\n",
    "знаешь\n",
    "5.   Какая функция называется выпуклой?\n",
    "функция выпукла на отрезке, если соединив концы функции прямой функция будет лежать по одну сторону от прямой, в многомерном случае это плоскость\n",
    "6.  Что такое матрица Гессе?\n",
    "матрица вторых производных\n",
    "7.   В чем заключаются принципы построения численных методов поиска безусловного экстремума?\n",
    "выбираем начальную точку, на каждом шаге выбираем куда шагать и шагаем епта гого левой правой левой правой\n",
    "8.   Чем характеризуется порядок методов поиска безусловного экстремума?\n",
    "порядком производной\n",
    "9.   Какой порядок имеет метод градиентного спуска с постоянным шагом?\n",
    "1\n",
    "10.  Какой порядок имеет метод наискорейшего градиентного спуска?\n",
    "1\n",
    "11.  Какой порядок имеет метод Гаусса-Зейделя?\n",
    "1\n",
    "12.  Перечислите методы второго порядка для поиска безусловного экстремума функции нескольких переменных?\n",
    "ньютона, ньютона-рафсона, марквардта\n",
    "13.  Какой порядок имеет метод Ньютона?\n",
    "2\n",
    "14. Что такое градиент?\n",
    "вектор состоящий из первых производных, показывает направление наибольшего подъема функции\n",
    "15.  Какой вид имеет общее правило построения последовательности  ${x^k}$ ? (все переменные пояснить)\n",
    "16.  Каким свойством должны обладать точки последовательности  ${x^k}$ ?\n",
    "15 и 16 были в 1 лабе все тоже самое только многомерное\n",
    "17.  Какому условию должно удовлетворять направление спуска  dk  при решении задачи безусловной минимизации?\n",
    "определяется из необходимого условия экстремума первого порядка\n",
    "для функции F\n",
    "18. Перечислите критерии останова\n",
    "расстояние между соседними точками меньше E или разница между значениями функции меньше E или предельное количество итераций их много\n",
    "19. Опишите модельную схему решения задач безусловной минимизации\n",
    "Проверка соблюдения условий останова. \n",
    "Расчет направления поиска\n",
    "Расчет длины шага\n",
    " Пересчет оценки решения\n",
    "20. В чем преимущества метода Ньютона?\n",
    "если минимизируемая функция является квадратической, то метод позволит найти\n",
    "минимум за один шаг;\n",
    "если минимизируемая функция относится к классу поверхностей вращения, то метод\n",
    "также обеспечивает сходимость за один шаг;\n",
    "\n",
    "21. Перечислите недостатки метода Ньютона?\n",
    "вычисление вторых производных;\n",
    "обращение матриц Гессе.\n",
    "\n",
    "22. В чем заключается дополнительное исследование точки $x^k$, полученной методом градиентного спуска с постоянным шагом?\n",
    "23. В чем заключается дополнительное исследование точки $x^k$, полученной методомнаискорейшего градиентного спуска?\n"
   ]
  },
  {
   "cell_type": "markdown",
   "metadata": {
    "id": "pNM-2RtIDEhw"
   },
   "source": [
    "## Теоретический минимум python"
   ]
  },
  {
   "cell_type": "markdown",
   "metadata": {
    "id": "WJkazeO7fLts"
   },
   "source": [
    "1. Опишите реализацию градиента в python\n",
    "я ебу, библиотеки\n",
    "2. Как реализована матрица вторых производных в python?\n",
    "я ебу, библиотеки\n",
    "3. Опишите реализацию критериев останова?\n",
    "ифами епта\n",
    "4. Какими свойствами обладают методы из функции, которую Вы выбрали?\n",
    "какой блять функции уточните\n",
    "5. Как проводилось дополнительное исследование точки $x^k$ в python, полученной методомнаискорейшего градиентного спуска?\n",
    "этот вопрос был в теоретическом минимуме по методам оптимизации и хуй знает все еще"
   ]
  },
  {
   "cell_type": "code",
   "execution_count": 124,
   "metadata": {},
   "outputs": [],
   "source": [
    "# Ваш код здесь\n",
    "def gradsp2(x0,eps,eps1,eps2,M,n):\n",
    "    k=0\n",
    "    xk=np.copy(x0)\n",
    "    xk1=[None]*n\n",
    "    grad=nd.Gradient(f)(x0)\n",
    "    while(module(grad)>=eps1):\n",
    "        grad=nd.Gradient(f)(xk)\n",
    "        print('k=',k)\n",
    "        print('grad=',grad)\n",
    "        print('|grad|',module(grad))\n",
    "        if(k>=M):\n",
    "            print('k>=m')\n",
    "            return xk\n",
    "        tk=0.1\n",
    "        for i in range(n):\n",
    "             xk1[i]=xk[i]-grad[i]*tk\n",
    "        print('xk1=',xk1)\n",
    "        print('tk=',tk)\n",
    "        print('f(xk1)',f(xk1))\n",
    "        print('f(xk)',f(xk))\n",
    "        while(f(xk1)>=f(xk)):\n",
    "            tk/=2\n",
    "            for i in range(n):\n",
    "                xk1[i]=xk[i]-grad[i]*tk\n",
    "            print('xk1=',xk1)\n",
    "            print('tk=',tk)\n",
    "        d1=[None]*n #xk1-xk\n",
    "        for i in range(n):\n",
    "            d1[i]=xk1[i]-xk[i]\n",
    "        print('|xk1-xk|',module(d1))\n",
    "        if (module(d1)<eps2):\n",
    "            print('|f(xk1)-f(xk)|',math.fabs(f(xk1)-f(xk)))\n",
    "            if (math.fabs(f(xk1)-f(xk))<eps2):\n",
    "                print('k=',k)\n",
    "                if(k>0):\n",
    "                    d2=[None]*n\n",
    "                    for i in range(n):\n",
    "                        d2[i]=xk[i]-xkm1[i]\n",
    "                    print('|xk-xkm1|',module(d2))\n",
    "                    if (module(d2)<eps2):\n",
    "                        print('|f(xk1)-f(xk)|',math.fabs(f(xk)-f(xkm1)))\n",
    "                        if(math.fabs(f(xk)-f(xkm1))<eps2):\n",
    "                            return xk1\n",
    "        k+=1\n",
    "        xkm1=np.copy(xk)\n",
    "        xk=np.copy(xk1)\n",
    "    return xk     "
   ]
  },
  {
   "cell_type": "code",
   "execution_count": 125,
   "metadata": {},
   "outputs": [
    {
     "name": "stdout",
     "output_type": "stream",
     "text": [
      "k= 0\n",
      "grad= [24.  6.]\n",
      "|grad| 24.738633753706008\n",
      "xk1= [5.599999999999996, 8.399999999999999]\n",
      "tk= 0.1\n",
      "f(xk1) 7.199999999999974\n",
      "f(xk) 45.0\n",
      "|xk1-xk| 2.4738633753706005\n",
      "k= 1\n",
      "grad= [4.8 4.8]\n",
      "|grad| 6.78822509939085\n",
      "xk1= [5.119999999999998, 7.919999999999997]\n",
      "tk= 0.1\n",
      "f(xk1) 3.7439999999999882\n",
      "f(xk) 7.199999999999974\n",
      "|xk1-xk| 0.678822509939085\n",
      "k= 2\n",
      "grad= [0.96 3.84]\n",
      "|grad| 3.958181400592948\n",
      "xk1= [5.023999999999999, 7.535999999999998]\n",
      "tk= 0.1\n",
      "f(xk1) 2.361599999999993\n",
      "f(xk) 3.7439999999999882\n",
      "|xk1-xk| 0.39581814005929467\n",
      "k= 3\n",
      "grad= [0.192 3.072]\n",
      "|grad| 3.0779941520412204\n",
      "xk1= [5.0047999999999995, 7.228799999999999]\n",
      "tk= 0.1\n",
      "f(xk1) 1.510041599999997\n",
      "f(xk) 2.361599999999993\n",
      "|xk1-xk| 0.30779941520412185\n",
      "k= 4\n",
      "grad= [0.0384 2.4576]\n",
      "|grad| 2.457899981691666\n",
      "xk1= [5.00096, 6.983040000000001]\n",
      "tk= 0.1\n",
      "f(xk1) 0.9663713280000016\n",
      "f(xk) 1.510041599999997\n",
      "|xk1-xk| 0.24578999816916677\n",
      "k= 5\n",
      "grad= [0.00768 1.96608]\n",
      "|grad| 1.9660949999427821\n",
      "xk1= [5.000192, 6.7864320000000005]\n",
      "tk= 0.1\n",
      "f(xk1) 0.6184754380800007\n",
      "f(xk) 0.9663713280000016\n",
      "|xk1-xk| 0.19660949999427835\n",
      "k= 6\n",
      "grad= [1.536000e-03 1.572864e+00]\n",
      "|grad| 1.5728647499998216\n",
      "xk1= [5.0000384, 6.6291456]\n",
      "tk= 0.1\n",
      "f(xk1) 0.39582419189760026\n",
      "f(xk) 0.6184754380800007\n",
      "|xk1-xk| 0.15728647499998238\n",
      "k= 7\n",
      "grad= [3.0720000e-04 1.2582912e+00]\n",
      "|grad| 1.258291237500006\n",
      "xk1= [5.00000768, 6.50331648]\n",
      "tk= 0.1\n",
      "f(xk1) 0.25332747927551963\n",
      "f(xk) 0.39582419189760026\n",
      "|xk1-xk| 0.1258291237500005\n",
      "k= 8\n",
      "grad= [6.14400000e-05 1.00663296e+00]\n",
      "|grad| 1.0066329618749983\n",
      "xk1= [5.000001536, 6.402653184]\n",
      "tk= 0.1\n",
      "f(xk1) 0.16212958659477508\n",
      "f(xk) 0.25332747927551963\n",
      "|xk1-xk| 0.10066329618749957\n",
      "k= 9\n",
      "grad= [1.22880000e-05 8.05306368e-01]\n",
      "|grad| 0.8053063680937519\n",
      "xk1= [5.0000003072, 6.3221225472]\n",
      "tk= 0.1\n",
      "f(xk1) 0.10376293541499386\n",
      "f(xk) 0.16212958659477508\n",
      "|xk1-xk| 0.08053063680937483\n",
      "|f(xk1)-f(xk)| 0.05836665117978122\n",
      "k= 9\n",
      "|xk-xkm1| 0.10066329618749957\n",
      "k= 10\n",
      "grad= [2.45760000e-06 6.44245094e-01]\n",
      "|grad| 0.6442450944046846\n",
      "xk1= [5.00000006144, 6.257698037760001]\n",
      "tk= 0.1\n",
      "f(xk1) 0.06640827866536994\n",
      "f(xk) 0.10376293541499386\n",
      "|xk1-xk| 0.06442450944046808\n",
      "|f(xk1)-f(xk)| 0.03735465674962392\n",
      "k= 10\n",
      "|xk-xkm1| 0.08053063680937483\n",
      "|f(xk1)-f(xk)| 0.05836665117978122\n",
      "result [5.00000006144, 6.257698037760001] 0.06640827866536994\n"
     ]
    }
   ],
   "source": [
    "#3\n",
    "def f(x):\n",
    "    return 4.*(x[0]-5.)**2.+(x[1]-6.)**2.\n",
    "x0=[8.,9.]\n",
    "eps=10**(-1)\n",
    "eps1=10**(-1)\n",
    "eps2=10**(-1)\n",
    "M=35\n",
    "n=2\n",
    "rez=gradsp2(x0,eps,eps1,eps2,M,n)\n",
    "print('result',rez,f(rez))"
   ]
  },
  {
   "cell_type": "code",
   "execution_count": 126,
   "metadata": {},
   "outputs": [
    {
     "name": "stdout",
     "output_type": "stream",
     "text": [
      "k= 0\n",
      "grad= [-0.36787944  0.        ]\n",
      "|grad| 0.3678794411714423\n",
      "xk1= [0.03678794411714423, 1.0]\n",
      "tk= 0.1\n",
      "f(xk1) -0.013044704185571084\n",
      "f(xk) -0.0\n",
      "|xk1-xk| 0.03678794411714423\n",
      "|f(xk1)-f(xk)| 0.013044704185571084\n",
      "k= 0\n",
      "k= 1\n",
      "grad= [-3.41547119e-01  9.11705363e-17]\n",
      "|grad| 0.3415471192670451\n",
      "xk1= [0.07094265604384875, 1.0]\n",
      "tk= 0.1\n",
      "f(xk1) -0.02431100754836777\n",
      "f(xk) -0.013044704185571084\n",
      "|xk1-xk| 0.03415471192670452\n",
      "|f(xk1)-f(xk)| 0.011266303362796687\n",
      "k= 1\n",
      "|xk-xkm1| 0.03678794411714423\n",
      "|f(xk1)-f(xk)| 0.013044704185571084\n",
      "result [0.07094265604384875, 1.0] -0.02431100754836777\n"
     ]
    }
   ],
   "source": [
    "#4\n",
    "def f(x):\n",
    "    return -x[0]*x[1]*math.exp(-x[0]-x[1])\n",
    "x0=[0.,1.]\n",
    "eps=10**(-1)\n",
    "eps1=10**(-1)\n",
    "eps2=10**(-1)\n",
    "M=35\n",
    "n=2\n",
    "rez=gradsp2(x0,eps,eps1,eps2,M,n)\n",
    "print('result',rez,f(rez))"
   ]
  },
  {
   "cell_type": "code",
   "execution_count": 113,
   "metadata": {},
   "outputs": [],
   "source": [
    "# Ваш код здесь\n",
    "def newton2(x0,eps1,eps2,M,n):\n",
    "    grad=nd.Gradient(f)(x0)\n",
    "    xk=np.copy(x0)\n",
    "    k=0\n",
    "    xk1=[None]*n\n",
    "    print('k=',k)\n",
    "    print('|grad|=',module(grad))\n",
    "    while(module(grad)>=eps1):\n",
    "        grad=nd.Gradient(f)(xk)\n",
    "        print('k=',k)\n",
    "        print('|grad|=',module(grad))\n",
    "        if(k>=M):\n",
    "            return xk\n",
    "        x_value = np.array(xk)  # вычисление матрицы гессе\n",
    "        H_f = jacobian(egrad(f))  # матрица\n",
    "        H=H_f(x_value)#матрица в точке\n",
    "        print('H=',H)\n",
    "        invH=np.linalg.inv(H)#обратная ей\n",
    "        print('H^-1=',invH)\n",
    "        w,v = np.linalg.eig(invH)#находим собственные значения для определения знака матрицы\n",
    "        print('sobstv znch=',w)\n",
    "        ispos=1#проверка собственный значений, если есть неположительное, то матрица не положительно полуопределенная\n",
    "        for i in range(n):\n",
    "            if (w[i]<=0):\n",
    "                ispos=0\n",
    "        if(ispos<1):\n",
    "            dk=[None]*n\n",
    "            for i in range(n):\n",
    "                dk[i]=-grad[i]\n",
    "            print('dk=',dk)\n",
    "            tk=0.5\n",
    "        else:\n",
    "            dk=-np.dot(invH,grad)\n",
    "            print('dk=',dk)\n",
    "            tk=1.\n",
    "        for i in range(n):\n",
    "            xk1[i]=xk[i]+tk*dk[i]\n",
    "        d1=[None]*n #xk1-xk\n",
    "        for i in range(n):\n",
    "            d1[i]=xk1[i]-xk[i]\n",
    "        print('|xk1-xk|',module(d1))\n",
    "        if (module(d1)<eps2):\n",
    "            print('|f(xk1)-f(xk)|',math.fabs(f(xk1)-f(xk)))\n",
    "            if (math.fabs(f(xk1)-f(xk))<eps2):\n",
    "                print('k=',k)\n",
    "                if(k>0):\n",
    "                    d2=[None]*n\n",
    "                    for i in range(n):\n",
    "                        d2[i]=xk[i]-xkm1[i]\n",
    "                    print('|xk-xkm1|',module(d1))\n",
    "                    if (module(d2)<eps2):\n",
    "                        print('|f(xk)-f(xkm1)|',math.fabs(f(xk1)-f(xk)))\n",
    "                        if(math.fabs(f(xk)-f(xkm1))<eps2):\n",
    "                            return xk1\n",
    "        k+=1\n",
    "        xkm1=np.copy(xk)\n",
    "        xk=np.copy(xk1)\n",
    "    return xk\n"
   ]
  },
  {
   "cell_type": "code",
   "execution_count": 116,
   "metadata": {},
   "outputs": [
    {
     "name": "stdout",
     "output_type": "stream",
     "text": [
      "k= 0\n",
      "|grad|= 3.5355339059327378\n",
      "k= 0\n",
      "|grad|= 3.5355339059327378\n",
      "H= [[2. 1.]\n",
      " [1. 0.]]\n",
      "H^-1= [[ 0.  1.]\n",
      " [ 1. -2.]]\n",
      "sobstv znch= [ 0.41421356 -2.41421356]\n",
      "dk= [-3.5, -0.49999999999999994]\n",
      "|xk1-xk| 1.7677669529663689\n",
      "k= 1\n",
      "|grad|= 1.2747548783981961\n",
      "H= [[2. 1.]\n",
      " [1. 0.]]\n",
      "H^-1= [[ 0.  1.]\n",
      " [ 1. -2.]]\n",
      "sobstv znch= [ 0.41421356 -2.41421356]\n",
      "dk= [0.24999999999999947, 1.25]\n",
      "|xk1-xk| 0.6373774391990981\n",
      "k= 2\n",
      "|grad|= 1.2869537676233824\n",
      "H= [[2. 1.]\n",
      " [1. 0.]]\n",
      "H^-1= [[ 0.  1.]\n",
      " [ 1. -2.]]\n",
      "sobstv znch= [ 0.41421356 -2.41421356]\n",
      "dk= [-0.6250000000000154, 1.1249999999999998]\n",
      "|xk1-xk| 0.6434768838116913\n",
      "k= 3\n",
      "|grad|= 1.5436361294035599\n",
      "H= [[2. 1.]\n",
      " [1. 0.]]\n",
      "H^-1= [[ 0.  1.]\n",
      " [ 1. -2.]]\n",
      "sobstv znch= [ 0.41421356 -2.41421356]\n",
      "dk= [-0.5624999999999843, 1.4375000000000075]\n",
      "|xk1-xk| 0.7718180647017798\n",
      "k= 4\n",
      "|grad|= 1.8629823200986013\n",
      "H= [[2. 1.]\n",
      " [1. 0.]]\n",
      "H^-1= [[ 0.  1.]\n",
      " [ 1. -2.]]\n",
      "sobstv znch= [ 0.41421356 -2.41421356]\n",
      "dk= [-0.7187500000000039, 1.718749999999989]\n",
      "|xk1-xk| 0.9314911600493009\n",
      "k= 5\n",
      "|grad|= 2.2488061068598144\n",
      "[-2.078125  3.015625] -6.104492187499998\n"
     ]
    }
   ],
   "source": [
    "#3\n",
    "def f(x):\n",
    "    return x[0]**2.+x[0]*x[1]+2.*x[0]\n",
    "x0=[0.5,0.5]\n",
    "eps1=10**(-1)\n",
    "eps2=10**(-1)\n",
    "M=5\n",
    "n=2\n",
    "rez=newton2(x0,eps1,eps2,M,n)\n",
    "print(rez,f(rez))"
   ]
  },
  {
   "cell_type": "code",
   "execution_count": 117,
   "metadata": {},
   "outputs": [
    {
     "name": "stdout",
     "output_type": "stream",
     "text": [
      "k= 0\n",
      "|grad|= 4.743416490252568\n",
      "k= 0\n",
      "|grad|= 4.743416490252568\n",
      "H= [[2. 3.]\n",
      " [3. 0.]]\n",
      "H^-1= [[ 0.          0.33333333]\n",
      " [ 0.33333333 -0.22222222]]\n",
      "sobstv znch= [ 0.24025307 -0.4624753 ]\n",
      "dk= [-4.499999999999999, -1.4999999999999998]\n",
      "|xk1-xk| 2.371708245126284\n",
      "k= 1\n",
      "|grad|= 5.711829829397928\n",
      "H= [[2. 3.]\n",
      " [3. 0.]]\n",
      "H^-1= [[ 0.          0.33333333]\n",
      " [ 0.33333333 -0.22222222]]\n",
      "sobstv znch= [ 0.24025307 -0.4624753 ]\n",
      "dk= [2.2499999999999987, 5.249999999999997]\n",
      "|xk1-xk| 2.855914914698964\n",
      "k= 2\n",
      "|grad|= 8.095137429346087\n",
      "H= [[2. 3.]\n",
      " [3. 0.]]\n",
      "H^-1= [[ 0.          0.33333333]\n",
      " [ 0.33333333 -0.22222222]]\n",
      "sobstv znch= [ 0.24025307 -0.4624753 ]\n",
      "dk= [-7.874999999999999, 1.8749999999999991]\n",
      "|xk1-xk| 4.047568714673044\n",
      "k= 3\n",
      "|grad|= 13.973468162915024\n",
      "H= [[2. 3.]\n",
      " [3. 0.]]\n",
      "H^-1= [[ 0.          0.33333333]\n",
      " [ 0.33333333 -0.22222222]]\n",
      "sobstv znch= [ 0.24025307 -0.4624753 ]\n",
      "dk= [-2.8124999999999787, 13.687499999999996]\n",
      "|xk1-xk| 6.986734081457512\n",
      "k= 4\n",
      "|grad|= 27.242724085983046\n",
      "H= [[2. 3.]\n",
      " [3. 0.]]\n",
      "H^-1= [[ 0.          0.33333333]\n",
      " [ 0.33333333 -0.22222222]]\n",
      "sobstv znch= [ 0.24025307 -0.4624753 ]\n",
      "dk= [-20.531250000000032, 17.906249999999982]\n",
      "|xk1-xk| 13.621362042991523\n",
      "k= 5\n",
      "|grad|= 55.618525781939255\n",
      "H= [[2. 3.]\n",
      " [3. 0.]]\n",
      "H^-1= [[ 0.          0.33333333]\n",
      " [ 0.33333333 -0.22222222]]\n",
      "sobstv znch= [ 0.24025307 -0.4624753 ]\n",
      "dk= [-26.859374999999847, 48.703125]\n",
      "|xk1-xk| 27.809262890969627\n",
      "k= 6\n",
      "|grad|= 115.13729544225768\n",
      "H= [[2. 3.]\n",
      " [3. 0.]]\n",
      "H^-1= [[ 0.          0.33333333]\n",
      " [ 0.33333333 -0.22222222]]\n",
      "sobstv znch= [ 0.24025307 -0.4624753 ]\n",
      "dk= [-73.05468749999999, 88.99218749999956]\n",
      "|xk1-xk| 57.56864772112884\n",
      "k= 7\n",
      "|grad|= 239.27148092334735\n",
      "H= [[2. 3.]\n",
      " [3. 0.]]\n",
      "H^-1= [[ 0.          0.33333333]\n",
      " [ 0.33333333 -0.22222222]]\n",
      "sobstv znch= [ 0.24025307 -0.4624753 ]\n",
      "dk= [-133.48828124999818, 198.5742187500008]\n",
      "|xk1-xk| 119.63574046167368\n",
      "k= 8\n",
      "|grad|= 497.7631036939085\n",
      "H= [[2. 3.]\n",
      " [3. 0.]]\n",
      "H^-1= [[ 0.          0.33333333]\n",
      " [ 0.33333333 -0.22222222]]\n",
      "sobstv znch= [ 0.24025307 -0.4624753 ]\n",
      "dk= [-297.8613281250108, 398.8066406249993]\n",
      "|xk1-xk| 248.88155184695427\n",
      "k= 9\n",
      "|grad|= 1035.8050999967988\n",
      "H= [[2. 3.]\n",
      " [3. 0.]]\n",
      "H^-1= [[ 0.          0.33333333]\n",
      " [ 0.33333333 -0.22222222]]\n",
      "sobstv znch= [ 0.24025307 -0.4624753 ]\n",
      "dk= [-598.209960937498, 845.5986328125983]\n",
      "|xk1-xk| 517.9025499983994\n",
      "k= 10\n",
      "|grad|= 2155.5929775304085\n",
      "[-580.97119141  809.44677734] -1074430.1929789486\n"
     ]
    }
   ],
   "source": [
    "#3\n",
    "def f(x):\n",
    "    return x[0]**2.+3*x[0]*x[1]+2.*x[0]\n",
    "x0=[0.5,0.5]\n",
    "eps1=10**(-1)\n",
    "eps2=10**(-1)\n",
    "M=10\n",
    "n=2\n",
    "rez=newton2(x0,eps1,eps2,M,n)\n",
    "print(rez,f(rez))"
   ]
  },
  {
   "cell_type": "code",
   "execution_count": null,
   "metadata": {},
   "outputs": [],
   "source": []
  }
 ],
 "metadata": {
  "colab": {
   "provenance": []
  },
  "kernelspec": {
   "display_name": "Python 3 (ipykernel)",
   "language": "python",
   "name": "python3"
  },
  "language_info": {
   "codemirror_mode": {
    "name": "ipython",
    "version": 3
   },
   "file_extension": ".py",
   "mimetype": "text/x-python",
   "name": "python",
   "nbconvert_exporter": "python",
   "pygments_lexer": "ipython3",
   "version": "3.9.12"
  }
 },
 "nbformat": 4,
 "nbformat_minor": 4
}
