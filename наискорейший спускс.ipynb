{
 "cells": [
  {
   "cell_type": "code",
   "execution_count": 2,
   "id": "95c70feb",
   "metadata": {},
   "outputs": [],
   "source": [
    "import numpy as np\n",
    "import math\n",
    "import numdifftools as nd\n",
    "from scipy.optimize import minimize_scalar"
   ]
  },
  {
   "cell_type": "code",
   "execution_count": 3,
   "id": "bf49ed9d",
   "metadata": {},
   "outputs": [
    {
     "name": "stdout",
     "output_type": "stream",
     "text": [
      "Requirement already satisfied: numdifftools in c:\\users\\vadim\\anaconda3\\lib\\site-packages (0.9.41)\n",
      "Requirement already satisfied: scipy>=0.8 in c:\\users\\vadim\\anaconda3\\lib\\site-packages (from numdifftools) (1.7.3)\n",
      "Requirement already satisfied: numpy>=1.9 in c:\\users\\vadim\\anaconda3\\lib\\site-packages (from numdifftools) (1.21.5)\n",
      "Note: you may need to restart the kernel to use updated packages.\n"
     ]
    }
   ],
   "source": [
    "pip install numdifftools"
   ]
  },
  {
   "cell_type": "code",
   "execution_count": 48,
   "id": "065fb0f9",
   "metadata": {},
   "outputs": [],
   "source": [
    "#модуль вектора\n",
    "def module(x):\n",
    "    s=0\n",
    "    for i in range(len(x)):\n",
    "        s+=x[i]**2.\n",
    "    return math.sqrt(s)\n",
    "#функция argmin(t,xk)=f(xk-t*grad(xk)), grad(xk)- градиент f в точке xk\n",
    "def argmin(t,xk):\n",
    "    return f(xk-t*nd.Gradient(f)(xk))\n",
    "#функция нахождения минимума по t от f(x-t*grad(x))\n",
    "def findtk(xk):\n",
    "    result = minimize_scalar(argmin, bounds=(0, 1),args=(xk), method='bounded')\n",
    "    return result.x\n",
    "def gradsp(x0,eps,M,n):\n",
    "    k=0 #число проделанных итераций\n",
    "    xk=np.copy(x0) #положим xk=x0 при k=0\n",
    "    xk1=[None]*n  \n",
    "    grad=nd.Gradient(f)(x0) #градиент f в точке x0, функция из библиотеки numdifftools\n",
    "    while(module(grad)>=eps): #критерий окончания: норма градиента в точке xk >= eps\n",
    "        grad=nd.Gradient(f)(xk)\n",
    "        if(k>=M): #проверка на предельное число итераций\n",
    "            return xk\n",
    "        \n",
    "        tk=findtk(xk) #нахождение t [0;1] при котором f(xk-t*grad(xk)) минимальна\n",
    "        xk1=xk-grad*tk #вычислим xk1\n",
    "                \n",
    "        d1=[None]*n #xk1-xk\n",
    "        d1=xk1-xk\n",
    "        if (module(d1)<eps): # |xk1-xk|<eps\n",
    "            if (math.fabs(f(xk1)-f(xk))<eps): # |f(xk1)-f(xk)|<eps\n",
    "                if (module(nd.Gradient(f)(xk1))<eps):# ||grad(xk1)||<eps\n",
    "                    return xk1 #если все 3 условия выполнены, то возвращаем xk1\n",
    "        k+=1 #иначе повторяем цикл при k=k+1 \n",
    "        xk=np.copy(xk1)\n",
    "    return xk1"
   ]
  },
  {
   "cell_type": "code",
   "execution_count": 50,
   "id": "34f25eb8",
   "metadata": {},
   "outputs": [
    {
     "name": "stdout",
     "output_type": "stream",
     "text": [
      "[0.47377663 1.44484141] 1.3365013303536855\n"
     ]
    }
   ],
   "source": [
    "\n",
    "\n",
    "\n",
    "def f(x):\n",
    "    return (np.cos(x[0])/(1+np.sin(x[0])*np.sin(x[0]))- 4*(2-x[1])/x[1]/x[1]) * (np.cos(x[0])/(1+np.sin(x[0])*np.sin(x[0]))- 4*(2-x[1])/x[1]/x[1]) + (np.sin(x[0])*np.cos(x[0])/(1+np.sin(x[0])*np.sin(x[0])) - x[1])*(np.sin(x[0])*np.cos(x[0])/(1+np.sin(x[0])*np.sin(x[0])) - x[1])\n",
    "x0=[1.,1.]\n",
    "eps=10**(-3)\n",
    "M=35\n",
    "n=2\n",
    "rez=gradsp(x0,eps,M,n)\n",
    "print(rez,f(rez))\n"
   ]
  },
  {
   "cell_type": "code",
   "execution_count": null,
   "id": "0276de61",
   "metadata": {},
   "outputs": [],
   "source": []
  }
 ],
 "metadata": {
  "kernelspec": {
   "display_name": "Python 3 (ipykernel)",
   "language": "python",
   "name": "python3"
  },
  "language_info": {
   "codemirror_mode": {
    "name": "ipython",
    "version": 3
   },
   "file_extension": ".py",
   "mimetype": "text/x-python",
   "name": "python",
   "nbconvert_exporter": "python",
   "pygments_lexer": "ipython3",
   "version": "3.9.12"
  }
 },
 "nbformat": 4,
 "nbformat_minor": 5
}
